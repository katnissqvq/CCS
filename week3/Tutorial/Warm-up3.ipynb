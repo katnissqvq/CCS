{
 "cells": [
  {
   "cell_type": "markdown",
   "id": "green-scottish",
   "metadata": {},
   "source": [
    "# Warm-up excercises week 3"
   ]
  },
  {
   "cell_type": "markdown",
   "id": "defensive-mitchell",
   "metadata": {},
   "source": [
    "Now that we've seen how Python and Jupyter Notebooks work and that you have read about Computational Communication Science, it's time for you to combine apply this knowledge. To prepare for the tutorial, we ask you to complete two warm-up excercises.\n",
    "\n",
    "\n",
    "Some important notes for the excercises:\n",
    "\n",
    "* These excercises are a warming up meant to help you get ready for class. Make sure to give them a try on all of them. If you get an error message, try to troubleshoot it (using Google often helps). If all else fails, go to the next excercise (but make sure to hand it in).\n",
    "* While we of course like when you get all the answers right, the important thing is to exercise and apply the knowledge. So we will still accept solutions that may not be complete, as long as we see enough effort for each excercise. \n",
    "* Delivering the warm-up excercises on time is critical, as it helps also prepare for the tutorial session. *info on handing-in*\n",
    "* As these excercises are meant to help you participate in the tutorial and us to make sure you can get as much as possible from the tutorials, we do not expect perfect answers. However, this is important to show the effort you have put in the excercises and what obstacles you faced."
   ]
  },
  {
   "cell_type": "markdown",
   "id": "current-brook",
   "metadata": {
    "tags": []
   },
   "source": [
    "# Excercise 1\n",
    "\n",
    "`grades_exam1` is a list of grades students in one group recieved for their assignment.  \n",
    "* Use built-in functions of Pyhton to caclucate average grade *Tip: use the built-in functions we used in the lecture*\n",
    "* Write a function that checks if a student passed (got at least 5.5). Make sure that the grades are in the right format in the function.\n",
    "* *Extra: The second list `grades_exam2`contains grades from the second exam the students have taken. Here however some students were absent and hence do not have a grade. Improve your function so that it takes it into account.*"
   ]
  },
  {
   "cell_type": "code",
   "execution_count": 8,
   "id": "governmental-thesis",
   "metadata": {},
   "outputs": [],
   "source": [
    "grades_exam1 = [4.5,6,7,8,8,7.5,6.5,6,9,7,8,7.5,6.5,5.5,6,4.5,3,8,7.5,7,3.5,9,7,6.5]"
   ]
  },
  {
   "cell_type": "markdown",
   "id": "8a8ab2c0-f430-418e-bee4-f11452c00e4d",
   "metadata": {
    "jp-MarkdownHeadingCollapsed": true,
    "tags": []
   },
   "source": [
    "## 1.Use built-in functions of Pyhton to caclucate average grade Tip: use the built-in functions we used in the lecture"
   ]
  },
  {
   "cell_type": "markdown",
   "id": "4fc92438-95f9-4a8f-97a8-6c35042a7054",
   "metadata": {},
   "source": [
    "* Import the statistic module first"
   ]
  },
  {
   "cell_type": "code",
   "execution_count": 5,
   "id": "eb1e5799-348e-4738-aaa1-5c89d0334f45",
   "metadata": {},
   "outputs": [],
   "source": [
    "import statistics"
   ]
  },
  {
   "cell_type": "markdown",
   "id": "d5ecf84e-2684-4251-9439-ed423ee3ea6e",
   "metadata": {},
   "source": [
    "* Using the statistics module function ()mean to calculate the average score for exam 1"
   ]
  },
  {
   "cell_type": "code",
   "execution_count": 9,
   "id": "appropriate-dictionary",
   "metadata": {},
   "outputs": [
    {
     "name": "stdout",
     "output_type": "stream",
     "text": [
      "6.625\n"
     ]
    }
   ],
   "source": [
    "avg_exam1=statistics.mean(grades_exam1)\n",
    "\n",
    "print(avg_exam1)\n"
   ]
  },
  {
   "cell_type": "markdown",
   "id": "0be1ff30-f7f9-4fc3-bd52-72bda18f02ec",
   "metadata": {
    "tags": []
   },
   "source": [
    "## 2.Write a function that checks if a student passed (got at least 5.5). Make sure that the grades are in the right format in the function."
   ]
  },
  {
   "cell_type": "code",
   "execution_count": 28,
   "id": "e339e3e5-6bd9-4c01-ac28-6ffbc7f255bd",
   "metadata": {},
   "outputs": [],
   "source": [
    "def passed(grades_exam1):\n",
    "    for x in grades_exam1:\n",
    "        if x>=5.5:\n",
    "            return x\n"
   ]
  },
  {
   "cell_type": "code",
   "execution_count": 29,
   "id": "3d815b58-bff0-4682-98d1-4ffda32421e2",
   "metadata": {},
   "outputs": [
    {
     "ename": "TypeError",
     "evalue": "'float' object is not iterable",
     "output_type": "error",
     "traceback": [
      "\u001b[1;31m---------------------------------------------------------------------------\u001b[0m",
      "\u001b[1;31mTypeError\u001b[0m                                 Traceback (most recent call last)",
      "\u001b[1;32m~\\AppData\\Local\\Temp/ipykernel_13320/4069325118.py\u001b[0m in \u001b[0;36m<module>\u001b[1;34m\u001b[0m\n\u001b[0;32m      1\u001b[0m \u001b[1;32mfor\u001b[0m \u001b[0mx\u001b[0m \u001b[1;32min\u001b[0m \u001b[0mgrades_exam1\u001b[0m\u001b[1;33m:\u001b[0m\u001b[1;33m\u001b[0m\u001b[1;33m\u001b[0m\u001b[0m\n\u001b[1;32m----> 2\u001b[1;33m     \u001b[0mprint\u001b[0m\u001b[1;33m(\u001b[0m\u001b[0mpassed\u001b[0m\u001b[1;33m(\u001b[0m\u001b[0mx\u001b[0m\u001b[1;33m)\u001b[0m\u001b[1;33m)\u001b[0m\u001b[1;33m\u001b[0m\u001b[1;33m\u001b[0m\u001b[0m\n\u001b[0m",
      "\u001b[1;32m~\\AppData\\Local\\Temp/ipykernel_13320/2083905504.py\u001b[0m in \u001b[0;36mpassed\u001b[1;34m(grades_exam1)\u001b[0m\n\u001b[0;32m      1\u001b[0m \u001b[1;32mdef\u001b[0m \u001b[0mpassed\u001b[0m\u001b[1;33m(\u001b[0m\u001b[0mgrades_exam1\u001b[0m\u001b[1;33m)\u001b[0m\u001b[1;33m:\u001b[0m\u001b[1;33m\u001b[0m\u001b[1;33m\u001b[0m\u001b[0m\n\u001b[1;32m----> 2\u001b[1;33m     \u001b[1;32mfor\u001b[0m \u001b[0mx\u001b[0m \u001b[1;32min\u001b[0m \u001b[0mgrades_exam1\u001b[0m\u001b[1;33m:\u001b[0m\u001b[1;33m\u001b[0m\u001b[1;33m\u001b[0m\u001b[0m\n\u001b[0m\u001b[0;32m      3\u001b[0m         \u001b[1;32mif\u001b[0m \u001b[0mx\u001b[0m\u001b[1;33m>=\u001b[0m\u001b[1;36m5.5\u001b[0m\u001b[1;33m:\u001b[0m\u001b[1;33m\u001b[0m\u001b[1;33m\u001b[0m\u001b[0m\n\u001b[0;32m      4\u001b[0m             \u001b[1;32mreturn\u001b[0m \u001b[0mx\u001b[0m\u001b[1;33m\u001b[0m\u001b[1;33m\u001b[0m\u001b[0m\n",
      "\u001b[1;31mTypeError\u001b[0m: 'float' object is not iterable"
     ]
    }
   ],
   "source": [
    "for x in grades_exam1:\n",
    "    print(passed(x))"
   ]
  },
  {
   "cell_type": "code",
   "execution_count": null,
   "id": "7d520290-e820-416e-8b50-953e5b0c3b6b",
   "metadata": {},
   "outputs": [],
   "source": []
  },
  {
   "cell_type": "code",
   "execution_count": 59,
   "id": "cardiac-resolution",
   "metadata": {},
   "outputs": [],
   "source": [
    "grades_exam2 = [3.5,6,\"Absent\",8,9,7.5,4.5,6,9,7,7.5,7,\"Absent\",5.5,6.5,6,3,8,7.5,7,5.5,8,7,8]"
   ]
  },
  {
   "cell_type": "code",
   "execution_count": null,
   "id": "preceding-supervisor",
   "metadata": {},
   "outputs": [],
   "source": []
  },
  {
   "cell_type": "markdown",
   "id": "surface-accused",
   "metadata": {},
   "source": [
    "# Excercise 2\n",
    "\n",
    "Below, you can find a list of ratings given to a restaurant on TripAdvisor. You are the owner of the restaurant and you want to know what the average rating was. You have written the code below, but it doesn't work. Adjust the code to caluclate the average rating.\n",
    "\n",
    "*Do not adjust the list manually, but use appropriate code.*"
   ]
  },
  {
   "cell_type": "code",
   "execution_count": 32,
   "id": "muslim-joining",
   "metadata": {},
   "outputs": [],
   "source": [
    "ratings = [7,8,5,6,9,4,3,7,2,7,9,4,7,5,7,6,2,7,8,9,5,4,6,4,5,'7',8,9,7,7,8,6,7,7,5,3,7,6,4,9,7,8,5,1,5,8,7,5,6,7,9,8,'9',7,6,5,6,7,7,8,5,6,9,4,3,7,2,7,9,4,7,5,7,6,2,7,8,9,5,4,6,4,5,'6',8,9,7,7,8,6,7,8,5,3,7,6,4,9,7,8,5,1,7,8,7,5,5,7,9,8,'8',7,6,5,6,7, 7,8,5,6,9,4,3,7,2,7,9,4,7,5,7,6,2,7,8,9,6,4,6,4,5,'4',8,9,7,7,8,5,7,7,5,3,7,5,9,6,8,5,1,5,7,8,5,6,7,9,8,'6',7,6,5,6,7]"
   ]
  },
  {
   "cell_type": "code",
   "execution_count": 33,
   "id": "increased-given",
   "metadata": {},
   "outputs": [
    {
     "ename": "NameError",
     "evalue": "name 'rating' is not defined",
     "output_type": "error",
     "traceback": [
      "\u001b[1;31m---------------------------------------------------------------------------\u001b[0m",
      "\u001b[1;31mNameError\u001b[0m                                 Traceback (most recent call last)",
      "\u001b[1;32m~\\AppData\\Local\\Temp/ipykernel_13320/2796328088.py\u001b[0m in \u001b[0;36m<module>\u001b[1;34m\u001b[0m\n\u001b[1;32m----> 1\u001b[1;33m \u001b[0mavg\u001b[0m \u001b[1;33m=\u001b[0m \u001b[0msum\u001b[0m\u001b[1;33m(\u001b[0m\u001b[0mrating\u001b[0m\u001b[1;33m)\u001b[0m\u001b[1;33m/\u001b[0m\u001b[0mlen\u001b[0m\u001b[1;33m(\u001b[0m\u001b[0mrating\u001b[0m\u001b[1;33m)\u001b[0m\u001b[1;33m\u001b[0m\u001b[1;33m\u001b[0m\u001b[0m\n\u001b[0m",
      "\u001b[1;31mNameError\u001b[0m: name 'rating' is not defined"
     ]
    }
   ],
   "source": [
    "avg = sum(rating)/len(rating)"
   ]
  },
  {
   "cell_type": "code",
   "execution_count": 37,
   "id": "smooth-particle",
   "metadata": {},
   "outputs": [
    {
     "ename": "SyntaxError",
     "evalue": "invalid syntax (Temp/ipykernel_13320/2794180540.py, line 2)",
     "output_type": "error",
     "traceback": [
      "\u001b[1;36m  File \u001b[1;32m\"C:\\Users\\win\\AppData\\Local\\Temp/ipykernel_13320/2794180540.py\"\u001b[1;36m, line \u001b[1;32m2\u001b[0m\n\u001b[1;33m    for x in sum(x)\u001b[0m\n\u001b[1;37m                    ^\u001b[0m\n\u001b[1;31mSyntaxError\u001b[0m\u001b[1;31m:\u001b[0m invalid syntax\n"
     ]
    }
   ],
   "source": [
    "for x in avg:\n",
    "    for x in sum(x) \n",
    "        for x in len(x)\n",
    "    try:\n",
    "        x=ratings\n",
    "        print(avg)"
   ]
  },
  {
   "cell_type": "code",
   "execution_count": null,
   "id": "2f042f76-7863-4cd2-8cbe-61f279907dda",
   "metadata": {},
   "outputs": [],
   "source": []
  }
 ],
 "metadata": {
  "kernelspec": {
   "display_name": "Python 3 (ipykernel)",
   "language": "python",
   "name": "python3"
  },
  "language_info": {
   "codemirror_mode": {
    "name": "ipython",
    "version": 3
   },
   "file_extension": ".py",
   "mimetype": "text/x-python",
   "name": "python",
   "nbconvert_exporter": "python",
   "pygments_lexer": "ipython3",
   "version": "3.9.7"
  }
 },
 "nbformat": 4,
 "nbformat_minor": 5
}
