{
 "cells": [
  {
   "cell_type": "markdown",
   "id": "green-scottish",
   "metadata": {},
   "source": [
    "# Warm-up excercises week 3"
   ]
  },
  {
   "cell_type": "markdown",
   "id": "defensive-mitchell",
   "metadata": {},
   "source": [
    "Now that we've seen how Python and Jupyter Notebooks work and that you have read about Computational Communication Science, it's time for you to combine apply this knowledge. To prepare for the tutorial, we ask you to complete two warm-up excercises.\n",
    "\n",
    "\n",
    "Some important notes for the excercises:\n",
    "\n",
    "* These excercises are a warming up meant to help you get ready for class. Make sure to give them a try on all of them. If you get an error message, try to troubleshoot it (using Google often helps). If all else fails, go to the next excercise (but make sure to hand it in).\n",
    "* While we of course like when you get all the answers right, the important thing is to exercise and apply the knowledge. So we will still accept solutions that may not be complete, as long as we see enough effort for each excercise. \n",
    "* Delivering the warm-up excercises on time is critical, as it helps also prepare for the tutorial session. *info on handing-in*\n",
    "* As these excercises are meant to help you participate in the tutorial and us to make sure you can get as much as possible from the tutorials, we do not expect perfect answers. However, this is important to show the effort you have put in the excercises and what obstacles you faced."
   ]
  },
  {
   "cell_type": "markdown",
   "id": "current-brook",
   "metadata": {
    "tags": []
   },
   "source": [
    "# Excercise 1\n",
    "\n",
    "`grades_exam1` is a list of grades students in one group recieved for their assignment.  \n",
    "* Use built-in functions of Pyhton to caclucate average grade *Tip: use the built-in functions we used in the lecture*\n",
    "* Write a function that checks if a student passed (got at least 5.5). Make sure that the grades are in the right format in the function.\n",
    "* *Extra: The second list `grades_exam2`contains grades from the second exam the students have taken. Here however some students were absent and hence do not have a grade. Improve your function so that it takes it into account.*"
   ]
  },
  {
   "cell_type": "code",
   "execution_count": 146,
   "id": "governmental-thesis",
   "metadata": {},
   "outputs": [],
   "source": [
    "grades_exam1 = [4.5,6,7,8,8,7.5,6.5,6,9,7,8,7.5,6.5,5.5,6,4.5,3,8,7.5,7,3.5,9,7,6.5]"
   ]
  },
  {
   "cell_type": "markdown",
   "id": "8a8ab2c0-f430-418e-bee4-f11452c00e4d",
   "metadata": {
    "tags": []
   },
   "source": [
    "## 1.Use built-in functions of Pyhton to caclucate average grade Tip: use the built-in functions we used in the lecture"
   ]
  },
  {
   "cell_type": "markdown",
   "id": "4fc92438-95f9-4a8f-97a8-6c35042a7054",
   "metadata": {},
   "source": [
    "* Import the statistic module first"
   ]
  },
  {
   "cell_type": "code",
   "execution_count": 147,
   "id": "eb1e5799-348e-4738-aaa1-5c89d0334f45",
   "metadata": {},
   "outputs": [],
   "source": [
    "import statistics"
   ]
  },
  {
   "cell_type": "markdown",
   "id": "d5ecf84e-2684-4251-9439-ed423ee3ea6e",
   "metadata": {},
   "source": [
    "* Using the statistics module function ()mean to calculate the average score for exam 1"
   ]
  },
  {
   "cell_type": "code",
   "execution_count": 148,
   "id": "appropriate-dictionary",
   "metadata": {},
   "outputs": [
    {
     "name": "stdout",
     "output_type": "stream",
     "text": [
      "6.625\n"
     ]
    }
   ],
   "source": [
    "avg_exam1=statistics.mean(grades_exam1)\n",
    "\n",
    "print(avg_exam1)\n"
   ]
  },
  {
   "cell_type": "markdown",
   "id": "0be1ff30-f7f9-4fc3-bd52-72bda18f02ec",
   "metadata": {
    "tags": []
   },
   "source": [
    "## 2.Write a function that checks if a student passed (got at least 5.5). Make sure that the grades are in the right format in the function."
   ]
  },
  {
   "cell_type": "markdown",
   "id": "d89e46b3-8511-4097-adb2-68ff9bbdafe1",
   "metadata": {},
   "source": [
    "* Define the function with (grade) as the parameter. Then use the for-loop to conditioning the variable and assess whether it can be considerd as 'passed'. "
   ]
  },
  {
   "cell_type": "code",
   "execution_count": 149,
   "id": "e339e3e5-6bd9-4c01-ac28-6ffbc7f255bd",
   "metadata": {},
   "outputs": [],
   "source": [
    "def pass_exam(grade):\n",
    "    for x in grade:\n",
    "        if x>=5.5:\n",
    "            print(x,'is a passed grade')\n",
    "        else:\n",
    "            print(x, 'is not a passed grade')\n",
    "\n",
    "        \n",
    "\n",
    "\n",
    "    \n",
    "\n",
    "\n",
    "\n",
    "            \n",
    "            \n",
    "\n"
   ]
  },
  {
   "cell_type": "markdown",
   "id": "7b1cce98-e1e4-4251-82f2-1d6fdeaae646",
   "metadata": {},
   "source": [
    "* Use the grade_exam1 as the value of parameter, execute the function."
   ]
  },
  {
   "cell_type": "code",
   "execution_count": 150,
   "id": "277ab7bc-93af-4373-926e-744b2b4a89fd",
   "metadata": {},
   "outputs": [
    {
     "name": "stdout",
     "output_type": "stream",
     "text": [
      "4.5 is not a passed grade\n",
      "6 is a passed grade\n",
      "7 is a passed grade\n",
      "8 is a passed grade\n",
      "8 is a passed grade\n",
      "7.5 is a passed grade\n",
      "6.5 is a passed grade\n",
      "6 is a passed grade\n",
      "9 is a passed grade\n",
      "7 is a passed grade\n",
      "8 is a passed grade\n",
      "7.5 is a passed grade\n",
      "6.5 is a passed grade\n",
      "5.5 is a passed grade\n",
      "6 is a passed grade\n",
      "4.5 is not a passed grade\n",
      "3 is not a passed grade\n",
      "8 is a passed grade\n",
      "7.5 is a passed grade\n",
      "7 is a passed grade\n",
      "3.5 is not a passed grade\n",
      "9 is a passed grade\n",
      "7 is a passed grade\n",
      "6.5 is a passed grade\n"
     ]
    }
   ],
   "source": [
    "pass_exam(grades_exam1)"
   ]
  },
  {
   "cell_type": "markdown",
   "id": "d7abc3e8-0345-49b7-88ae-a378dfdfde87",
   "metadata": {
    "tags": []
   },
   "source": [
    "## 3.Extra: The second list grades_exam2contains grades from the second exam the students have taken. Here however some students were absent and hence do not have a grade. Improve your function so that it takes it into account."
   ]
  },
  {
   "cell_type": "code",
   "execution_count": 3,
   "id": "cardiac-resolution",
   "metadata": {},
   "outputs": [],
   "source": [
    "grades_exam2 = [3.5,6,\"Absent\",8,9,7.5,4.5,6,9,7,7.5,7,\"Absent\",5.5,6.5,6,3,8,7.5,7,5.5,8,7,8]"
   ]
  },
  {
   "cell_type": "markdown",
   "id": "acbe8556-0d53-4e65-8262-c5cfec0df54a",
   "metadata": {},
   "source": [
    "* Revise the function based on the grades_exam2's inclusion of both float and string. Adopt for-loops under three types of conditions to asses the the pass situation."
   ]
  },
  {
   "cell_type": "code",
   "execution_count": 11,
   "id": "217eaa33-f8c5-4262-9d10-39730c1b9681",
   "metadata": {},
   "outputs": [],
   "source": [
    "def re_pass_exam(grade):\n",
    "    for x in grade:\n",
    "        if type(x)==float and x>=5.5:\n",
    "            print(x,'is a passed grade')\n",
    "        elif type(x)==str:\n",
    "            print('not passed due to absence')\n",
    "        else:\n",
    "            print(x, 'is not a passed grade')"
   ]
  },
  {
   "cell_type": "markdown",
   "id": "9eba4082-0da2-4379-a295-1588bd40593d",
   "metadata": {},
   "source": [
    "* Execeute the function with the value from two exams."
   ]
  },
  {
   "cell_type": "code",
   "execution_count": 12,
   "id": "e976f880-cfdb-4b7c-ad75-cf934910ef3c",
   "metadata": {},
   "outputs": [
    {
     "name": "stdout",
     "output_type": "stream",
     "text": [
      "3.5 is not a passed grade\n",
      "6 is not a passed grade\n",
      "not passed due to absence\n",
      "8 is not a passed grade\n",
      "9 is not a passed grade\n",
      "7.5 is a passed grade\n",
      "4.5 is not a passed grade\n",
      "6 is not a passed grade\n",
      "9 is not a passed grade\n",
      "7 is not a passed grade\n",
      "7.5 is a passed grade\n",
      "7 is not a passed grade\n",
      "not passed due to absence\n",
      "5.5 is a passed grade\n",
      "6.5 is a passed grade\n",
      "6 is not a passed grade\n",
      "3 is not a passed grade\n",
      "8 is not a passed grade\n",
      "7.5 is a passed grade\n",
      "7 is not a passed grade\n",
      "5.5 is a passed grade\n",
      "8 is not a passed grade\n",
      "7 is not a passed grade\n",
      "8 is not a passed grade\n"
     ]
    }
   ],
   "source": [
    "re_pass_exam(grades_exam2)"
   ]
  },
  {
   "cell_type": "markdown",
   "id": "surface-accused",
   "metadata": {
    "tags": []
   },
   "source": [
    "# Excercise 2\n",
    "\n",
    "Below, you can find a list of ratings given to a restaurant on TripAdvisor. You are the owner of the restaurant and you want to know what the average rating was. You have written the code below, but it doesn't work. Adjust the code to caluclate the average rating.\n",
    "\n",
    "*Do not adjust the list manually, but use appropriate code.*"
   ]
  },
  {
   "cell_type": "code",
   "execution_count": 13,
   "id": "muslim-joining",
   "metadata": {},
   "outputs": [],
   "source": [
    "ratings = [7,8,5,6,9,4,3,7,2,7,9,4,7,5,7,6,2,7,8,9,5,4,6,4,5,'7',8,9,7,7,8,6,7,7,5,3,7,6,4,9,7,8,5,1,5,8,7,5,6,7,9,8,'9',7,6,5,6,7,7,8,5,6,9,4,3,7,2,7,9,4,7,5,7,6,2,7,8,9,5,4,6,4,5,'6',8,9,7,7,8,6,7,8,5,3,7,6,4,9,7,8,5,1,7,8,7,5,5,7,9,8,'8',7,6,5,6,7, 7,8,5,6,9,4,3,7,2,7,9,4,7,5,7,6,2,7,8,9,6,4,6,4,5,'4',8,9,7,7,8,5,7,7,5,3,7,5,9,6,8,5,1,5,7,8,5,6,7,9,8,'6',7,6,5,6,7]"
   ]
  },
  {
   "cell_type": "markdown",
   "id": "8d68d7e6-1f8d-45a6-abc6-5275251483ae",
   "metadata": {},
   "source": [
    "* Use list comprehension to convert the list with both string and integer to only integers."
   ]
  },
  {
   "cell_type": "code",
   "execution_count": 14,
   "id": "6a073d62-f535-45ad-9e41-7f4b4c7c6375",
   "metadata": {},
   "outputs": [
    {
     "name": "stdout",
     "output_type": "stream",
     "text": [
      "[7, 8, 5, 6, 9, 4, 3, 7, 2, 7, 9, 4, 7, 5, 7, 6, 2, 7, 8, 9, 5, 4, 6, 4, 5, 7, 8, 9, 7, 7, 8, 6, 7, 7, 5, 3, 7, 6, 4, 9, 7, 8, 5, 1, 5, 8, 7, 5, 6, 7, 9, 8, 9, 7, 6, 5, 6, 7, 7, 8, 5, 6, 9, 4, 3, 7, 2, 7, 9, 4, 7, 5, 7, 6, 2, 7, 8, 9, 5, 4, 6, 4, 5, 6, 8, 9, 7, 7, 8, 6, 7, 8, 5, 3, 7, 6, 4, 9, 7, 8, 5, 1, 7, 8, 7, 5, 5, 7, 9, 8, 8, 7, 6, 5, 6, 7, 7, 8, 5, 6, 9, 4, 3, 7, 2, 7, 9, 4, 7, 5, 7, 6, 2, 7, 8, 9, 6, 4, 6, 4, 5, 4, 8, 9, 7, 7, 8, 5, 7, 7, 5, 3, 7, 5, 9, 6, 8, 5, 1, 5, 7, 8, 5, 6, 7, 9, 8, 6, 7, 6, 5, 6, 7]\n"
     ]
    }
   ],
   "source": [
    "#this is the code i wrote to debug the error and make the program run smoothly\n",
    "rating = [int(x) for x in ratings]\n",
    "print(rating)"
   ]
  },
  {
   "cell_type": "code",
   "execution_count": 17,
   "id": "increased-given",
   "metadata": {},
   "outputs": [],
   "source": [
    "avg = sum(rating)/len(rating)"
   ]
  },
  {
   "cell_type": "code",
   "execution_count": 18,
   "id": "1af69ba2-0ae7-4ffa-bbb2-31e5a7cefd19",
   "metadata": {},
   "outputs": [
    {
     "name": "stdout",
     "output_type": "stream",
     "text": [
      "6.208092485549133\n"
     ]
    }
   ],
   "source": [
    "print(avg)"
   ]
  },
  {
   "cell_type": "code",
   "execution_count": null,
   "id": "efa9d4d1-ea1d-46c6-88a8-b0109db9d669",
   "metadata": {},
   "outputs": [],
   "source": []
  }
 ],
 "metadata": {
  "kernelspec": {
   "display_name": "Python 3 (ipykernel)",
   "language": "python",
   "name": "python3"
  },
  "language_info": {
   "codemirror_mode": {
    "name": "ipython",
    "version": 3
   },
   "file_extension": ".py",
   "mimetype": "text/x-python",
   "name": "python",
   "nbconvert_exporter": "python",
   "pygments_lexer": "ipython3",
   "version": "3.9.7"
  }
 },
 "nbformat": 4,
 "nbformat_minor": 5
}
