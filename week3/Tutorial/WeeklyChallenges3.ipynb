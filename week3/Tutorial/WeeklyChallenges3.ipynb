{
 "cells": [
  {
   "cell_type": "markdown",
   "id": "authentic-eugene",
   "metadata": {},
   "source": [
    "# Challenges week 3"
   ]
  },
  {
   "cell_type": "markdown",
   "id": "southeast-renewal",
   "metadata": {},
   "source": [
    "Now that you have some expereince with the most important control structures and can apply them when writing your own functions, it's time for you to combine and apply your knowledge. You will start working on these challenges in the tutorial and will be asked to complete them by the end of the week. \n",
    "\n",
    "In each challange, you are asked to provide the programing solution to it as well as a technical interpretation explaining the steps taken and the result.\n",
    "\n",
    "\n",
    "Some important notes for the challenges:\n",
    "\n",
    "* If you get an error message, try to troubleshoot it (using Google often helps). If all else fails, go to the next excercise (but make sure to hand it in).\n",
    "* We will make sure to provide feedback and improvement suggestions in the rubric. Make sure to read them; they will help you improve next week."
   ]
  },
  {
   "cell_type": "markdown",
   "id": "sophisticated-knitting",
   "metadata": {},
   "source": [
    "# Challenge 1\n",
    "\n",
    "Below, you have a list that contains referals (places from which a visitor has entered a website) for one hour of the day. This is an example of digital trace data. Imagine that this is a list of referrals to the website of a news organization (one article). The list is ordered chronologically. \n",
    "\n",
    "* Write function that categorizes the visitors in a meaningful way (it is up to you what way you choose, but explain your choices) and use it to create a new re-categorized list.\n",
    "* How many vistits came from each category?\n",
    "* Write the list you created to a .txt file.\n",
    "\n",
    "For each question, provide the necessary code and a short explanation of the choices you made."
   ]
  },
  {
   "cell_type": "code",
   "execution_count": 2,
   "id": "dried-violence",
   "metadata": {},
   "outputs": [],
   "source": [
    "visitors = ['homepage',\n",
    "            'homepage',\n",
    "            'homepage',\n",
    "            'instagram app',\n",
    "            'facebook app',\n",
    "            'campaign utx=1389',\n",
    "            'homepage',\n",
    "            'facebook app',\n",
    "            'homepage',\n",
    "            'google search',\n",
    "            'homepage',\n",
    "            'facebook app',\n",
    "            'homepage',\n",
    "            'homepage',\n",
    "            'homepage',\n",
    "            'campaign utx=1389',\n",
    "            'homepage',\n",
    "            'homepage',\n",
    "            'instagram app',\n",
    "            'campaign utx=1389',\n",
    "            'facebook.com',\n",
    "            'facebook app',\n",
    "            'google search',\n",
    "            'homepage',\n",
    "            'campaign utx=1389',\n",
    "            'campaign utx=1389',\n",
    "            'homepage',\n",
    "            'instagram app',\n",
    "            'homepage',\n",
    "            'homepage',\n",
    "            'homepage',\n",
    "            'instagram app',\n",
    "            'campaign utx=1389',\n",
    "            'instagram app',\n",
    "            'facebook app',\n",
    "            'homepage',\n",
    "            'facebook.com',\n",
    "            'campaign utx=1389'\n",
    "            'campaign utx=1389'\n",
    "            'homepage',\n",
    "            'homepage',\n",
    "            'facebook.com',\n",
    "            'instagram app',\n",
    "            'instagram app',\n",
    "            'campaign utx=1389',\n",
    "            'homepage',\n",
    "            'facebook.com',\n",
    "            'newsletter',\n",
    "            'newsletter',\n",
    "            'homepage',\n",
    "            'newsletter',\n",
    "            'homepage',\n",
    "            'newsletter',\n",
    "            'facebook.com',\n",
    "            'facebook.com',\n",
    "            'homepage',\n",
    "            'newsletter',\n",
    "            'newsletter',\n",
    "            'newsletter',\n",
    "            'google search',\n",
    "            'campaign utx=1389',\n",
    "            'newsletter',\n",
    "            'newsletter']"
   ]
  },
  {
   "cell_type": "markdown",
   "id": "interested-great",
   "metadata": {},
   "source": [
    "# Challenge 2\n",
    "\n",
    "`timeonsite` dictionary contains information on the time visitors spent on a website of a news organization reading an article.  The keys are visitor ID's (they are unique) and the values are either a single digit if someone has visited the website once or a list of digits if the person visited the site multiple times.\n",
    "* Write a function that shows how many times an individual visited the website. \n",
    "* Adjust that function so that it computes average visit lenght for a visitor.\n",
    "* Using either of the dictionaries, write a function that classifies visitors as frequent visitors (at least 3 visits in a day).\n",
    "* *Extra: In the second dictionary `timeonsite_day2`, visits from the next day are recorded. However, something went wrong with data collection and sometimes we see an error instead of the visit lenght. Can you adjust your function to take this into account?*\n",
    "\n",
    "For each question, provide the necessary code and a short explanation of the choices you made."
   ]
  },
  {
   "cell_type": "code",
   "execution_count": 5,
   "id": "detailed-factory",
   "metadata": {},
   "outputs": [],
   "source": [
    "timeonsite = {'ae5efe74061d4048964216c70f3a418c': 67,\n",
    "              '65241d7b66974fc798f307383c4714e8': [45,187,44],\n",
    "              '7f1de8287e184071840c8744cfcc8780': [32,48,312],\n",
    "              'c4681ec57db14d88b27a34560fe4d6ad': 453,\n",
    "              '4db40286540a48a1bdc73621e9ae699d': [67,89,46,90,104],\n",
    "              '7af0f5fd5b8d4025a9c86e1857f495f7': [34,89,135,104,106],\n",
    "              '49482fdca3db43d295f7d5b89e4a654e': [23,78,156,189,143,187],\n",
    "              'cba7ba80d78c4406b18ad97d59792d7d': 8,\n",
    "              '0a27e7eb71494802a4862a6b01aefe2c': [34,65,18,22],\n",
    "              '37a56050f11241778ef182afe5a58843': [56,87],\n",
    "              '1a18d1f7940f484b9d04f223930dfb4f': [76,98,106,125,356],\n",
    "              '483bd2d270134f4c96b128217b712b35': 45,\n",
    "              'ea5f7ddfc91945fc96b8b15c9f4a26b4': [76,109,45,22]}"
   ]
  },
  {
   "cell_type": "code",
   "execution_count": null,
   "id": "printable-truth",
   "metadata": {},
   "outputs": [],
   "source": []
  },
  {
   "cell_type": "code",
   "execution_count": 27,
   "id": "scheduled-handle",
   "metadata": {},
   "outputs": [],
   "source": [
    "timeonsite_day2 = {'ae5efe74061d4048964216c70f3a418c': 67,\n",
    "              '65241d7b66974fc798f307383c4714e8': 'ERROR',\n",
    "              '7f1de8287e184071840c8744cfcc8780': [32,48,312],\n",
    "              'c4681ec57db14d88b27a34560fe4d6ad': 453,\n",
    "              '4db40286540a48a1bdc73621e9ae699d': [67,89,46,90,104],\n",
    "              '7af0f5fd5b8d4025a9c86e1857f495f7': [34,89,135,104,106],\n",
    "              '49482fdca3db43d295f7d5b89e4a654e': [23,78,156,189,143,187],\n",
    "              'cba7ba80d78c4406b18ad97d59792d7d': 8,\n",
    "              '0a27e7eb71494802a4862a6b01aefe2c': [34,65,18,22],\n",
    "              '37a56050f11241778ef182afe5a58843': [56,87],\n",
    "              '1a18d1f7940f484b9d04f223930dfb4f': 'ERROR',\n",
    "              '483bd2d270134f4c96b128217b712b35': 45,\n",
    "              'ea5f7ddfc91945fc96b8b15c9f4a26b4': [76,109,45,22]}"
   ]
  },
  {
   "cell_type": "code",
   "execution_count": null,
   "id": "minimal-customer",
   "metadata": {},
   "outputs": [],
   "source": []
  },
  {
   "cell_type": "markdown",
   "id": "entire-pottery",
   "metadata": {},
   "source": [
    "## Challenge 3\n",
    "\n",
    "Imagine you are using a json file to keep track of the books you have read in the last year. The json file is structured as follows: it is a dictionary in which keys are titles of the books you read and values the ratings you gave them on a scale from 1-10. You want to know which books were rates as excellent, which as good and which were not so good. You have written a function to do so, but it seems not to work. Use debugging techniques discussed in class to solve the errors. Explain the techniqes you are using."
   ]
  },
  {
   "cell_type": "code",
   "execution_count": 1,
   "id": "former-episode",
   "metadata": {},
   "outputs": [
    {
     "ename": "NameError",
     "evalue": "name 'json' is not defined",
     "output_type": "error",
     "traceback": [
      "\u001b[0;31m---------------------------------------------------------------------------\u001b[0m",
      "\u001b[0;31mNameError\u001b[0m                                 Traceback (most recent call last)",
      "\u001b[0;32m<ipython-input-1-70cd88b8d179>\u001b[0m in \u001b[0;36m<module>\u001b[0;34m\u001b[0m\n\u001b[1;32m      1\u001b[0m \u001b[0;31m# Opening JSON file\u001b[0m\u001b[0;34m\u001b[0m\u001b[0;34m\u001b[0m\u001b[0;34m\u001b[0m\u001b[0m\n\u001b[1;32m      2\u001b[0m \u001b[0;32mwith\u001b[0m \u001b[0mopen\u001b[0m\u001b[0;34m(\u001b[0m\u001b[0;34m'mybooks.json'\u001b[0m\u001b[0;34m,\u001b[0m \u001b[0mmode\u001b[0m \u001b[0;34m=\u001b[0m \u001b[0;34m\"r\"\u001b[0m\u001b[0;34m,\u001b[0m \u001b[0mencoding\u001b[0m\u001b[0;34m=\u001b[0m\u001b[0;34m'utf-8'\u001b[0m\u001b[0;34m)\u001b[0m \u001b[0;32mas\u001b[0m \u001b[0mjson_file\u001b[0m\u001b[0;34m:\u001b[0m\u001b[0;34m\u001b[0m\u001b[0;34m\u001b[0m\u001b[0m\n\u001b[0;32m----> 3\u001b[0;31m     \u001b[0mdata\u001b[0m \u001b[0;34m=\u001b[0m \u001b[0mjson\u001b[0m\u001b[0;34m.\u001b[0m\u001b[0mload\u001b[0m\u001b[0;34m(\u001b[0m\u001b[0mjson_file\u001b[0m\u001b[0;34m)\u001b[0m\u001b[0;34m\u001b[0m\u001b[0;34m\u001b[0m\u001b[0m\n\u001b[0m",
      "\u001b[0;31mNameError\u001b[0m: name 'json' is not defined"
     ]
    }
   ],
   "source": [
    "# Opening JSON file\n",
    "with open('mybooks.json', mode = \"r\", encoding='utf-8') as json_file:\n",
    "    data = json.load(json_file)"
   ]
  },
  {
   "cell_type": "code",
   "execution_count": 4,
   "id": "acknowledged-language",
   "metadata": {},
   "outputs": [
    {
     "ename": "SyntaxError",
     "evalue": "invalid syntax (<ipython-input-4-e75b31b1c522>, line 2)",
     "output_type": "error",
     "traceback": [
      "\u001b[0;36m  File \u001b[0;32m\"<ipython-input-4-e75b31b1c522>\"\u001b[0;36m, line \u001b[0;32m2\u001b[0m\n\u001b[0;31m    if x >= 6 & < 8:\u001b[0m\n\u001b[0m                ^\u001b[0m\n\u001b[0;31mSyntaxError\u001b[0m\u001b[0;31m:\u001b[0m invalid syntax\n"
     ]
    }
   ],
   "source": [
    "def good_books(x):\n",
    "    if x >= 6 & < 8:\n",
    "        return \"good book\"\n",
    "    elif x > 8:\n",
    "        return \"excellent book\"\n",
    "    else:\n",
    "        return \"less good book\"\n",
    "        "
   ]
  },
  {
   "cell_type": "code",
   "execution_count": 6,
   "id": "regulation-cabinet",
   "metadata": {},
   "outputs": [
    {
     "ename": "ValueError",
     "evalue": "too many values to unpack (expected 2)",
     "output_type": "error",
     "traceback": [
      "\u001b[0;31m---------------------------------------------------------------------------\u001b[0m",
      "\u001b[0;31mValueError\u001b[0m                                Traceback (most recent call last)",
      "\u001b[0;32m<ipython-input-6-016e6910e28a>\u001b[0m in \u001b[0;36m<module>\u001b[0;34m\u001b[0m\n\u001b[0;32m----> 1\u001b[0;31m \u001b[0;32mfor\u001b[0m \u001b[0mk\u001b[0m\u001b[0;34m,\u001b[0m\u001b[0mv\u001b[0m \u001b[0;32min\u001b[0m \u001b[0mdata\u001b[0m\u001b[0;34m:\u001b[0m\u001b[0;34m\u001b[0m\u001b[0;34m\u001b[0m\u001b[0m\n\u001b[0m\u001b[1;32m      2\u001b[0m     \u001b[0mprint\u001b[0m\u001b[0;34m(\u001b[0m\u001b[0mk\u001b[0m\u001b[0;34m,\u001b[0m \u001b[0;34m\"is \"\u001b[0m\u001b[0;34m,\u001b[0m \u001b[0mgood_books\u001b[0m\u001b[0;34m(\u001b[0m\u001b[0mv\u001b[0m\u001b[0;34m)\u001b[0m\u001b[0;34m)\u001b[0m\u001b[0;34m\u001b[0m\u001b[0;34m\u001b[0m\u001b[0m\n",
      "\u001b[0;31mValueError\u001b[0m: too many values to unpack (expected 2)"
     ]
    }
   ],
   "source": [
    "for k,v in data:\n",
    "    print(k, \"is \", good_books(v))"
   ]
  },
  {
   "cell_type": "code",
   "execution_count": 2,
   "id": "unnecessary-adventure",
   "metadata": {},
   "outputs": [
    {
     "ename": "NameError",
     "evalue": "name 'data' is not defined",
     "output_type": "error",
     "traceback": [
      "\u001b[0;31m---------------------------------------------------------------------------\u001b[0m",
      "\u001b[0;31mNameError\u001b[0m                                 Traceback (most recent call last)",
      "\u001b[0;32m<ipython-input-2-c5d84736ba45>\u001b[0m in \u001b[0;36m<module>\u001b[0;34m\u001b[0m\n\u001b[0;32m----> 1\u001b[0;31m \u001b[0mdata\u001b[0m\u001b[0;34m\u001b[0m\u001b[0;34m\u001b[0m\u001b[0m\n\u001b[0m",
      "\u001b[0;31mNameError\u001b[0m: name 'data' is not defined"
     ]
    }
   ],
   "source": [
    "data"
   ]
  },
  {
   "cell_type": "code",
   "execution_count": null,
   "id": "clinical-monroe",
   "metadata": {},
   "outputs": [],
   "source": []
  }
 ],
 "metadata": {
  "kernelspec": {
   "display_name": "Python 3 (ipykernel)",
   "language": "python",
   "name": "python3"
  },
  "language_info": {
   "codemirror_mode": {
    "name": "ipython",
    "version": 3
   },
   "file_extension": ".py",
   "mimetype": "text/x-python",
   "name": "python",
   "nbconvert_exporter": "python",
   "pygments_lexer": "ipython3",
   "version": "3.9.7"
  }
 },
 "nbformat": 4,
 "nbformat_minor": 5
}
