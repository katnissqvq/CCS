{
 "cells": [
  {
   "cell_type": "markdown",
   "id": "authentic-eugene",
   "metadata": {},
   "source": [
    "# Challenges week 3"
   ]
  },
  {
   "cell_type": "markdown",
   "id": "southeast-renewal",
   "metadata": {},
   "source": [
    "Now that you have some expereince with the most important control structures and can apply them when writing your own functions, it's time for you to combine and apply your knowledge. You will start working on these challenges in the tutorial and will be asked to complete them by the end of the week. \n",
    "\n",
    "In each challange, you are asked to provide the programing solution to it as well as a technical interpretation explaining the steps taken and the result.\n",
    "\n",
    "\n",
    "Some important notes for the challenges:\n",
    "\n",
    "* If you get an error message, try to troubleshoot it (using Google often helps). If all else fails, go to the next excercise (but make sure to hand it in).\n",
    "* We will make sure to provide feedback and improvement suggestions in the rubric. Make sure to read them; they will help you improve next week."
   ]
  },
  {
   "cell_type": "markdown",
   "id": "sophisticated-knitting",
   "metadata": {
    "jp-MarkdownHeadingCollapsed": true,
    "tags": []
   },
   "source": [
    "# Challenge 1\n",
    "\n",
    "Below, you have a list that contains referals (places from which a visitor has entered a website) for one hour of the day. This is an example of digital trace data. Imagine that this is a list of referrals to the website of a news organization (one article). The list is ordered chronologically. \n",
    "\n",
    "* Write function that categorizes the visitors in a meaningful way (it is up to you what way you choose, but explain your choices) and use it to create a new re-categorized list.\n",
    "* How many vistits came from each category?\n",
    "* Write the list you created to a .txt file.\n",
    "\n",
    "For each question, provide the necessary code and a short explanation of the choices you made."
   ]
  },
  {
   "cell_type": "code",
   "execution_count": 1,
   "id": "dried-violence",
   "metadata": {},
   "outputs": [],
   "source": [
    "visitors = ['homepage',\n",
    "            'homepage',\n",
    "            'homepage',\n",
    "            'instagram app',\n",
    "            'facebook app',\n",
    "            'campaign utx=1389',\n",
    "            'homepage',\n",
    "            'facebook app',\n",
    "            'homepage',\n",
    "            'google search',\n",
    "            'homepage',\n",
    "            'facebook app',\n",
    "            'homepage',\n",
    "            'homepage',\n",
    "            'homepage',\n",
    "            'campaign utx=1389',\n",
    "            'homepage',\n",
    "            'homepage',\n",
    "            'instagram app',\n",
    "            'campaign utx=1389',\n",
    "            'facebook.com',\n",
    "            'facebook app',\n",
    "            'google search',\n",
    "            'homepage',\n",
    "            'campaign utx=1389',\n",
    "            'campaign utx=1389',\n",
    "            'homepage',\n",
    "            'instagram app',\n",
    "            'homepage',\n",
    "            'homepage',\n",
    "            'homepage',\n",
    "            'instagram app',\n",
    "            'campaign utx=1389',\n",
    "            'instagram app',\n",
    "            'facebook app',\n",
    "            'homepage',\n",
    "            'facebook.com',\n",
    "            'campaign utx=1389'\n",
    "            'campaign utx=1389'\n",
    "            'homepage',\n",
    "            'homepage',\n",
    "            'facebook.com',\n",
    "            'instagram app',\n",
    "            'instagram app',\n",
    "            'campaign utx=1389',\n",
    "            'homepage',\n",
    "            'facebook.com',\n",
    "            'newsletter',\n",
    "            'newsletter',\n",
    "            'homepage',\n",
    "            'newsletter',\n",
    "            'homepage',\n",
    "            'newsletter',\n",
    "            'facebook.com',\n",
    "            'facebook.com',\n",
    "            'homepage',\n",
    "            'newsletter',\n",
    "            'newsletter',\n",
    "            'newsletter',\n",
    "            'google search',\n",
    "            'campaign utx=1389',\n",
    "            'newsletter',\n",
    "            'newsletter']"
   ]
  },
  {
   "cell_type": "markdown",
   "id": "ec2e1bd4-3f26-460b-b6ab-9ebcc30662f6",
   "metadata": {},
   "source": [
    "## 1.Write function that categorizes the visitors in a meaningful way (it is up to you what way you choose, but explain your choices) and use it to create a new re-categorized list."
   ]
  },
  {
   "cell_type": "markdown",
   "id": "abf479e8-e0d3-4e15-bc2f-dd91e72a7bbd",
   "metadata": {},
   "source": [
    "* Write a function that re-categorize the existing list [visitors] into a new list of lists. \n",
    "\n",
    "There are four referal routes to the website which in turn become four categories that develop four if conditions in the for-loop.\n",
    "\n",
    "The referal \"homepage\" and \"google search\" are categorized as the function home page, called \"homefunction\".The referal \"facebook.com\" and \"instagram app\" are categorized as the social network software, called \"SNS\". And the referal \"campaign utx=1389\" are categorized as campaign and the \"newsletter\" are categorized as newsletter."
   ]
  },
  {
   "cell_type": "code",
   "execution_count": 2,
   "id": "9923540b-7e83-4b00-be9c-e0439d139da3",
   "metadata": {},
   "outputs": [],
   "source": [
    "def referal(v): \n",
    "    homefunction=[]\n",
    "    SNS=[]\n",
    "    campaign=[]\n",
    "    news=[]\n",
    "    ref_visitors=[homefunction,SNS,campaign,news]\n",
    "    \n",
    "    for x in v:\n",
    "        if x=='homepage' or x=='google search':\n",
    "            homefunction.append(x)\n",
    "        elif x=='facebook.com' or x=='instagram app':\n",
    "            SNS.append(x)\n",
    "        elif x=='campaign utx=1389':\n",
    "            campaign.append(x)\n",
    "        elif x=='newsletter':\n",
    "            news.append(x)\n",
    "    return ref_visitors"
   ]
  },
  {
   "cell_type": "markdown",
   "id": "1ec48b6c-d169-41b5-8c95-ca1471eb2aad",
   "metadata": {},
   "source": [
    "* Execute the function with the list [visitors] as x, the outcome is a list of four lists that contain the referals from each categories."
   ]
  },
  {
   "cell_type": "code",
   "execution_count": 3,
   "id": "436808d1-4415-4538-8f52-aeb0c7b56018",
   "metadata": {
    "tags": []
   },
   "outputs": [
    {
     "data": {
      "text/plain": [
       "[['homepage',\n",
       "  'homepage',\n",
       "  'homepage',\n",
       "  'homepage',\n",
       "  'homepage',\n",
       "  'google search',\n",
       "  'homepage',\n",
       "  'homepage',\n",
       "  'homepage',\n",
       "  'homepage',\n",
       "  'homepage',\n",
       "  'homepage',\n",
       "  'google search',\n",
       "  'homepage',\n",
       "  'homepage',\n",
       "  'homepage',\n",
       "  'homepage',\n",
       "  'homepage',\n",
       "  'homepage',\n",
       "  'homepage',\n",
       "  'homepage',\n",
       "  'homepage',\n",
       "  'homepage',\n",
       "  'homepage',\n",
       "  'google search'],\n",
       " ['instagram app',\n",
       "  'instagram app',\n",
       "  'facebook.com',\n",
       "  'instagram app',\n",
       "  'instagram app',\n",
       "  'instagram app',\n",
       "  'facebook.com',\n",
       "  'facebook.com',\n",
       "  'instagram app',\n",
       "  'instagram app',\n",
       "  'facebook.com',\n",
       "  'facebook.com',\n",
       "  'facebook.com'],\n",
       " ['campaign utx=1389',\n",
       "  'campaign utx=1389',\n",
       "  'campaign utx=1389',\n",
       "  'campaign utx=1389',\n",
       "  'campaign utx=1389',\n",
       "  'campaign utx=1389',\n",
       "  'campaign utx=1389',\n",
       "  'campaign utx=1389'],\n",
       " ['newsletter',\n",
       "  'newsletter',\n",
       "  'newsletter',\n",
       "  'newsletter',\n",
       "  'newsletter',\n",
       "  'newsletter',\n",
       "  'newsletter',\n",
       "  'newsletter',\n",
       "  'newsletter']]"
      ]
     },
     "execution_count": 3,
     "metadata": {},
     "output_type": "execute_result"
    }
   ],
   "source": [
    "referal(visitors)"
   ]
  },
  {
   "cell_type": "markdown",
   "id": "ccac52a7-a628-4b65-963e-80e9069d8eae",
   "metadata": {},
   "source": [
    "*Assign the previous outcome a name. The named list is the re-categorized list."
   ]
  },
  {
   "cell_type": "code",
   "execution_count": 5,
   "id": "538cf7ec-ccb5-4879-b5db-b10901d2d77b",
   "metadata": {},
   "outputs": [],
   "source": [
    "new_visitors=referal(visitors)"
   ]
  },
  {
   "cell_type": "markdown",
   "id": "1e5e1411-0697-48ed-a0e1-a4849810f960",
   "metadata": {},
   "source": [
    "## 2.How many vistits came from each category?"
   ]
  },
  {
   "cell_type": "markdown",
   "id": "a2d3fe42-bfd3-4b41-9609-afc134b2dd3f",
   "metadata": {},
   "source": [
    "*Using the list comprehension to create a list that contain the number of visitors from each category"
   ]
  },
  {
   "cell_type": "code",
   "execution_count": 6,
   "id": "30aed89d-5c87-4d10-a9bb-b576d18ac512",
   "metadata": {
    "tags": []
   },
   "outputs": [],
   "source": [
    "visitnumber=[len(x) for x in new_visitors]\n"
   ]
  },
  {
   "cell_type": "markdown",
   "id": "92971cd8-4932-4712-955b-86dca4123c07",
   "metadata": {},
   "source": [
    "*Locating each number in the visitor number list and print the answer"
   ]
  },
  {
   "cell_type": "code",
   "execution_count": 7,
   "id": "a655e66f-39b4-4a08-9d70-8891165ab54b",
   "metadata": {},
   "outputs": [
    {
     "name": "stdout",
     "output_type": "stream",
     "text": [
      "25 visitors came from hompage functions \n",
      " 13 visitors came from social network software \n",
      " 8 visitors came from campaign website \n",
      " 9 visitors came from newsletter\n"
     ]
    }
   ],
   "source": [
    "print(visitnumber[0],'visitors came from hompage functions','\\n',\n",
    "      visitnumber[1],'visitors came from social network software','\\n',\n",
    "      visitnumber[2],'visitors came from campaign website','\\n',\n",
    "      visitnumber[3],'visitors came from newsletter')"
   ]
  },
  {
   "cell_type": "markdown",
   "id": "9ec36f2d-14c2-425f-a476-4f44af3c69da",
   "metadata": {
    "tags": []
   },
   "source": [
    "## 3.Write the list you created to a .txt file."
   ]
  },
  {
   "cell_type": "markdown",
   "id": "137c4060-567d-4354-be5b-47a19eba5cd2",
   "metadata": {},
   "source": [
    "* Use the 'with open' to convert the list into .txt file"
   ]
  },
  {
   "cell_type": "code",
   "execution_count": 8,
   "id": "cad74640-b665-49bf-a37a-f0440bfcf58c",
   "metadata": {},
   "outputs": [],
   "source": [
    "with open('visitors.txt','w',encoding='utf-8',) as f:\n",
    "    for x in new_visitors:\n",
    "        f.writelines(\"%s\\n\" % x)"
   ]
  },
  {
   "cell_type": "markdown",
   "id": "interested-great",
   "metadata": {
    "tags": []
   },
   "source": [
    "# Challenge 2\n",
    "\n",
    "`timeonsite` dictionary contains information on the time visitors spent on a website of a news organization reading an article.  The keys are visitor ID's (they are unique) and the values are either a single digit if someone has visited the website once or a list of digits if the person visited the site multiple times.\n",
    "* Write a function that shows how many times an individual visited the website. \n",
    "* Adjust that function so that it computes average visit lenght for a visitor.\n",
    "* Using either of the dictionaries, write a function that classifies visitors as frequent visitors (at least 3 visits in a day).\n",
    "* *Extra: In the second dictionary `timeonsite_day2`, visits from the next day are recorded. However, something went wrong with data collection and sometimes we see an error instead of the visit lenght. Can you adjust your function to take this into account?*\n",
    "\n",
    "For each question, provide the necessary code and a short explanation of the choices you made."
   ]
  },
  {
   "cell_type": "code",
   "execution_count": 49,
   "id": "detailed-factory",
   "metadata": {},
   "outputs": [],
   "source": [
    "timeonsite = {'ae5efe74061d4048964216c70f3a418c': 67,\n",
    "              '65241d7b66974fc798f307383c4714e8': [45,187,44],\n",
    "              '7f1de8287e184071840c8744cfcc8780': [32,48,312],\n",
    "              'c4681ec57db14d88b27a34560fe4d6ad': 453,\n",
    "              '4db40286540a48a1bdc73621e9ae699d': [67,89,46,90,104],\n",
    "              '7af0f5fd5b8d4025a9c86e1857f495f7': [34,89,135,104,106],\n",
    "              '49482fdca3db43d295f7d5b89e4a654e': [23,78,156,189,143,187],\n",
    "              'cba7ba80d78c4406b18ad97d59792d7d': 8,\n",
    "              '0a27e7eb71494802a4862a6b01aefe2c': [34,65,18,22],\n",
    "              '37a56050f11241778ef182afe5a58843': [56,87],\n",
    "              '1a18d1f7940f484b9d04f223930dfb4f': [76,98,106,125,356],\n",
    "              '483bd2d270134f4c96b128217b712b35': 45,\n",
    "              'ea5f7ddfc91945fc96b8b15c9f4a26b4': [76,109,45,22]}"
   ]
  },
  {
   "cell_type": "markdown",
   "id": "ba0d3c2e-0656-46b9-a1ec-6d0f914cbe80",
   "metadata": {
    "tags": []
   },
   "source": [
    "## 1.Write a function that shows how many times an individual visited the website."
   ]
  },
  {
   "cell_type": "markdown",
   "id": "f0908fd4-c1bf-410c-bdd3-8cc28c58099c",
   "metadata": {},
   "source": [
    "* Write the function using for-loops in terms of the two if conditions. \n",
    "\n",
    "The keys and values of the dictionary are extracted through the dic.items() method to write the function. If type(y) is a sole integer, it means that the visitor only visit the website once; while if it's a list, means he/she/they visit the website more than once, thus we use the len() function to calculate the overall number."
   ]
  },
  {
   "cell_type": "code",
   "execution_count": 31,
   "id": "b56054f1-1b07-48d9-a970-a291f29f4297",
   "metadata": {},
   "outputs": [],
   "source": [
    "def timevisit(v):\n",
    "    for x,y in v.items():\n",
    "        if type(y)==int:\n",
    "            print('User',x,'visit the website once')\n",
    "        if type(y)==list:\n",
    "            print('User',x,'visit the website', len(y),'times')"
   ]
  },
  {
   "cell_type": "markdown",
   "id": "24b76588-1a3b-4e5f-b15d-d82bfccac632",
   "metadata": {},
   "source": [
    "*Run the function with dictionary (timeonsite) as the variable v. "
   ]
  },
  {
   "cell_type": "code",
   "execution_count": 34,
   "id": "dc460078-a6f4-4caf-b043-94e40fe46568",
   "metadata": {},
   "outputs": [
    {
     "name": "stdout",
     "output_type": "stream",
     "text": [
      "User ae5efe74061d4048964216c70f3a418c visit the website once\n",
      "User 65241d7b66974fc798f307383c4714e8 visit the website 3 times\n",
      "User 7f1de8287e184071840c8744cfcc8780 visit the website 3 times\n",
      "User c4681ec57db14d88b27a34560fe4d6ad visit the website once\n",
      "User 4db40286540a48a1bdc73621e9ae699d visit the website 5 times\n",
      "User 7af0f5fd5b8d4025a9c86e1857f495f7 visit the website 5 times\n",
      "User 49482fdca3db43d295f7d5b89e4a654e visit the website 6 times\n",
      "User cba7ba80d78c4406b18ad97d59792d7d visit the website once\n",
      "User 0a27e7eb71494802a4862a6b01aefe2c visit the website 4 times\n",
      "User 37a56050f11241778ef182afe5a58843 visit the website 2 times\n",
      "User 1a18d1f7940f484b9d04f223930dfb4f visit the website 5 times\n",
      "User 483bd2d270134f4c96b128217b712b35 visit the website once\n",
      "User ea5f7ddfc91945fc96b8b15c9f4a26b4 visit the website 4 times\n"
     ]
    }
   ],
   "source": [
    "timevisit(timeonsite)"
   ]
  },
  {
   "cell_type": "markdown",
   "id": "092bb6d4-5f20-41bc-b2f8-23fe95b7313a",
   "metadata": {
    "tags": []
   },
   "source": [
    "## 2.Adjust that function so that it computes average visit lenght for a visitor."
   ]
  },
  {
   "cell_type": "markdown",
   "id": "67af1002-f19e-4982-8ce0-8d2ab3e820bb",
   "metadata": {},
   "source": [
    "* Import the statistics so that the mean of variables can be easily computed instead of using the traditional sum()/len()."
   ]
  },
  {
   "cell_type": "code",
   "execution_count": 35,
   "id": "21336143-00c1-4d83-9365-1a3e08e4a341",
   "metadata": {},
   "outputs": [],
   "source": [
    "import statistics"
   ]
  },
  {
   "cell_type": "markdown",
   "id": "3abafa1d-dd3b-4f13-b1f7-56328ca78bf2",
   "metadata": {},
   "source": [
    "* Revise the original function into a new one that can computes the average visit length for the visitor. New function adopts the same classification method, i.e.type(y), for if conditions as the previous original function. Average length of user who visit the website more than once will be calculated by statistics.mean() function."
   ]
  },
  {
   "cell_type": "code",
   "execution_count": 42,
   "id": "f5fad2ce-b31c-4430-8b3e-b35de92fd7cc",
   "metadata": {
    "tags": []
   },
   "outputs": [],
   "source": [
    "def lengthvisit(v):\n",
    "    for x,y in v.items():\n",
    "        if type(y)==int:\n",
    "            print('The average visit length of user',x,'is',y,'seconds')\n",
    "        if type(y)==list:\n",
    "            print('The average visit length of user',x,'is',statistics.mean(y),'seconds')"
   ]
  },
  {
   "cell_type": "markdown",
   "id": "f09d3420-f8b6-4556-9318-7f0fffa3d9d4",
   "metadata": {},
   "source": [
    "* Run the revised function,still using timeonsite as the variable v."
   ]
  },
  {
   "cell_type": "code",
   "execution_count": 43,
   "id": "c352f53d-7fb1-4607-ac63-5a819dc8754b",
   "metadata": {
    "tags": []
   },
   "outputs": [
    {
     "name": "stdout",
     "output_type": "stream",
     "text": [
      "The average visit length of user ae5efe74061d4048964216c70f3a418c is 67 seconds\n",
      "The average visit length of user 65241d7b66974fc798f307383c4714e8 is 92 seconds\n",
      "The average visit length of user 7f1de8287e184071840c8744cfcc8780 is 130.66666666666666 seconds\n",
      "The average visit length of user c4681ec57db14d88b27a34560fe4d6ad is 453 seconds\n",
      "The average visit length of user 4db40286540a48a1bdc73621e9ae699d is 79.2 seconds\n",
      "The average visit length of user 7af0f5fd5b8d4025a9c86e1857f495f7 is 93.6 seconds\n",
      "The average visit length of user 49482fdca3db43d295f7d5b89e4a654e is 129.33333333333334 seconds\n",
      "The average visit length of user cba7ba80d78c4406b18ad97d59792d7d is 8 seconds\n",
      "The average visit length of user 0a27e7eb71494802a4862a6b01aefe2c is 34.75 seconds\n",
      "The average visit length of user 37a56050f11241778ef182afe5a58843 is 71.5 seconds\n",
      "The average visit length of user 1a18d1f7940f484b9d04f223930dfb4f is 152.2 seconds\n",
      "The average visit length of user 483bd2d270134f4c96b128217b712b35 is 45 seconds\n",
      "The average visit length of user ea5f7ddfc91945fc96b8b15c9f4a26b4 is 63 seconds\n"
     ]
    }
   ],
   "source": [
    "lengthvisit(timeonsite)"
   ]
  },
  {
   "cell_type": "markdown",
   "id": "6ea64ed9-fbf1-4535-a66e-6cce66c1d05e",
   "metadata": {
    "tags": []
   },
   "source": [
    "## 3.Using either of the dictionaries, write a function that classifies visitors as frequent visitors (at least 3 visits in a day)."
   ]
  },
  {
   "cell_type": "markdown",
   "id": "0463f070-1cb3-49c1-ab6b-b1059d2abf02",
   "metadata": {},
   "source": [
    "* Write a function that classify the the frequent users in the first dictionary, i.e. [timeonsite].\n",
    "\n",
    "The classification of if conditions is similar to the previous ones, first divide the visitors based on type(y). If type(y) is integer, meaning this user only visit the website once, we can instantly exclude them from being considered as frequent visitor. Then, for those user who visit the website more than once, we use the len() function to compute its overall visit number and categorize those who visited  at least 3 times as frequent visitor."
   ]
  },
  {
   "cell_type": "code",
   "execution_count": 60,
   "id": "c781c7b6-a9e5-4658-84e2-4626f1a9bac8",
   "metadata": {},
   "outputs": [],
   "source": [
    "def frequent_visit(v):\n",
    "    for x,y in v.items():\n",
    "        if type(y)==int:\n",
    "            print('User',x,'is non a frequent visitor') \n",
    "        if type(y)==list:\n",
    "            if len(y)>=3:\n",
    "                print('User',x,'is a frequent visitor')\n",
    "            else:\n",
    "                print('User',x,'is not a frequent visitor')"
   ]
  },
  {
   "cell_type": "markdown",
   "id": "d948ad6b-d0f8-45d4-b0a6-797ef2790d76",
   "metadata": {},
   "source": [
    "*Run the function for first dictionary"
   ]
  },
  {
   "cell_type": "code",
   "execution_count": 61,
   "id": "1835a3ad-cc5c-4cab-977a-103ad7eaf801",
   "metadata": {},
   "outputs": [
    {
     "name": "stdout",
     "output_type": "stream",
     "text": [
      "User ae5efe74061d4048964216c70f3a418c is non a frequent visitor\n",
      "User 65241d7b66974fc798f307383c4714e8 is a frequent visitor\n",
      "User 7f1de8287e184071840c8744cfcc8780 is a frequent visitor\n",
      "User c4681ec57db14d88b27a34560fe4d6ad is non a frequent visitor\n",
      "User 4db40286540a48a1bdc73621e9ae699d is a frequent visitor\n",
      "User 7af0f5fd5b8d4025a9c86e1857f495f7 is a frequent visitor\n",
      "User 49482fdca3db43d295f7d5b89e4a654e is a frequent visitor\n",
      "User cba7ba80d78c4406b18ad97d59792d7d is non a frequent visitor\n",
      "User 0a27e7eb71494802a4862a6b01aefe2c is a frequent visitor\n",
      "User 37a56050f11241778ef182afe5a58843 is not a frequent visitor\n",
      "User 1a18d1f7940f484b9d04f223930dfb4f is a frequent visitor\n",
      "User 483bd2d270134f4c96b128217b712b35 is non a frequent visitor\n",
      "User ea5f7ddfc91945fc96b8b15c9f4a26b4 is a frequent visitor\n"
     ]
    }
   ],
   "source": [
    "frequent_visit(timeonsite)"
   ]
  },
  {
   "cell_type": "markdown",
   "id": "10684148-e34a-49e6-b970-8e761d85ac1d",
   "metadata": {
    "tags": []
   },
   "source": [
    "## 4.Extra: In the second dictionary timeonsite_day2, visits from the next day are recorded. However, something went wrong with data collection and sometimes we see an error instead of the visit lenght. Can you adjust your function to take this into account?"
   ]
  },
  {
   "cell_type": "code",
   "execution_count": 62,
   "id": "scheduled-handle",
   "metadata": {},
   "outputs": [],
   "source": [
    "timeonsite_day2 = {'ae5efe74061d4048964216c70f3a418c': 67,\n",
    "              '65241d7b66974fc798f307383c4714e8': 'ERROR',\n",
    "              '7f1de8287e184071840c8744cfcc8780': [32,48,312],\n",
    "              'c4681ec57db14d88b27a34560fe4d6ad': 453,\n",
    "              '4db40286540a48a1bdc73621e9ae699d': [67,89,46,90,104],\n",
    "              '7af0f5fd5b8d4025a9c86e1857f495f7': [34,89,135,104,106],\n",
    "              '49482fdca3db43d295f7d5b89e4a654e': [23,78,156,189,143,187],\n",
    "              'cba7ba80d78c4406b18ad97d59792d7d': 8,\n",
    "              '0a27e7eb71494802a4862a6b01aefe2c': [34,65,18,22],\n",
    "              '37a56050f11241778ef182afe5a58843': [56,87],\n",
    "              '1a18d1f7940f484b9d04f223930dfb4f': 'ERROR',\n",
    "              '483bd2d270134f4c96b128217b712b35': 45,\n",
    "              'ea5f7ddfc91945fc96b8b15c9f4a26b4': [76,109,45,22]}"
   ]
  },
  {
   "cell_type": "markdown",
   "id": "8883699f-9ad4-4ced-8b21-3fd16adb352d",
   "metadata": {},
   "source": [
    "* Add one extra if condition 'type(y)=str' into the for-loop of the function since the error values are presented as string. Other parts of the former function remain the same."
   ]
  },
  {
   "cell_type": "code",
   "execution_count": 69,
   "id": "87ce1fe8-bee6-476d-b794-741ebe10cefb",
   "metadata": {},
   "outputs": [],
   "source": [
    "def frequent_visit(v):\n",
    "    for x,y in v.items():\n",
    "        if type(y)==str:\n",
    "            print('User',x,'has unknown visit frequency due to error')\n",
    "        if type(y)==int:\n",
    "            print('User',x,'is not a frequent visitor') \n",
    "        if type(y)==list:\n",
    "            if len(y)>=3:\n",
    "                print('User',x,'is a frequent visitor')\n",
    "            else:\n",
    "                print('User',x,'is not a frequent visitor')"
   ]
  },
  {
   "cell_type": "markdown",
   "id": "f0819923-fc8a-4bcf-af99-99a3927177cd",
   "metadata": {},
   "source": [
    "* Run the new function with the seocond dictionary, i.e.timeonsite_day2, as the variable v."
   ]
  },
  {
   "cell_type": "code",
   "execution_count": 72,
   "id": "b70e345a-b315-4b77-8596-876a63ff270d",
   "metadata": {
    "tags": []
   },
   "outputs": [
    {
     "name": "stdout",
     "output_type": "stream",
     "text": [
      "User ae5efe74061d4048964216c70f3a418c is not a frequent visitor\n",
      "User 65241d7b66974fc798f307383c4714e8 has unknown visit frequency due to error\n",
      "User 7f1de8287e184071840c8744cfcc8780 is a frequent visitor\n",
      "User c4681ec57db14d88b27a34560fe4d6ad is not a frequent visitor\n",
      "User 4db40286540a48a1bdc73621e9ae699d is a frequent visitor\n",
      "User 7af0f5fd5b8d4025a9c86e1857f495f7 is a frequent visitor\n",
      "User 49482fdca3db43d295f7d5b89e4a654e is a frequent visitor\n",
      "User cba7ba80d78c4406b18ad97d59792d7d is not a frequent visitor\n",
      "User 0a27e7eb71494802a4862a6b01aefe2c is a frequent visitor\n",
      "User 37a56050f11241778ef182afe5a58843 is not a frequent visitor\n",
      "User 1a18d1f7940f484b9d04f223930dfb4f has unknown visit frequency due to error\n",
      "User 483bd2d270134f4c96b128217b712b35 is not a frequent visitor\n",
      "User ea5f7ddfc91945fc96b8b15c9f4a26b4 is a frequent visitor\n"
     ]
    }
   ],
   "source": [
    "frequent_visit(timeonsite_day2)"
   ]
  },
  {
   "cell_type": "markdown",
   "id": "entire-pottery",
   "metadata": {
    "jp-MarkdownHeadingCollapsed": true,
    "tags": []
   },
   "source": [
    "# Challenge 3\n",
    "\n",
    "Imagine you are using a json file to keep track of the books you have read in the last year. The json file is structured as follows: it is a dictionary in which keys are titles of the books you read and values the ratings you gave them on a scale from 1-10. You want to know which books were rates as excellent, which as good and which were not so good. You have written a function to do so, but it seems not to work. Use debugging techniques discussed in class to solve the errors. Explain the techniqes you are using."
   ]
  },
  {
   "cell_type": "markdown",
   "id": "abfd1985-ce33-489d-b813-6b69577778a0",
   "metadata": {},
   "source": [
    "#### *the revised code is under the explaination and each revised line is specifically noted\n",
    "* 1.\n",
    "The first error \"NameError: name 'json' is not defined\" occurs because json is not imported. So we import it before the execution of the other codes.\n",
    "\n",
    "* 2.\n",
    "The second error \"invalid syntax\" occurs becuase the first if condition, i.e. \"if x >= 6 & < 8:\" uses the incorrect python grammar. The technique to fix it is simply using the correct syntax \"x>=6 and x<8\" to describe the need to tie these two requirement.\n",
    "\n",
    "* 3.\n",
    "The third error \"too many values to unpack (expected 2)\" occurs because the dictionary (data) is not unpacked and thus there is a mismatch between the returned values and the number of variables in the dictionary. We fix this problem by adopting the .items() function to unpack the dictionary, seperating the keys and values of the dictionary so that the return values process can run smoothly. \n",
    "\n",
    "* 4.\n",
    "After seprating the keys and values, the code executes successfully only with part of the dictionary. Another error \"'>=' not supported between instances of 'NoneType' and 'int'\" occurs. This error occurs because the type of objects within the value of the dictionary are different from one another---- there are integers(which we want),string, and null content----while the symbol '>=' can only be applied to numbers. To fix the problem, I first add another if condition  \"if v==None\" and its followed response \"rating unknown due to lack of data\" into the code to address the issue caused when the value of the dictionary, v, is null content. Then for those value v which are sting type, I use the int()function, adopting int(v), i.e. integer form of v, instead of the original v as the variable for the execution of function good_books. Since the all the v under that if condition are already transformed to integer format, the execution of function would run smoothly. The errors caused by 'string' and 'null content' are all solved.\n",
    "\n",
    "* 5.\n",
    "The last error \"name 'data' is not defined\" is associated with and can be traced back to the first error. Since the json file is not imorted, name 'json' is not defined. Since 'json' is not defined, the object 'data', which is defined based on the existence of 'json', is invalid the not defined. Because we already fix the first error and all the following errors, this error is automatically corrected and the whole code can run smoothly right now.\n",
    "\n"
   ]
  },
  {
   "cell_type": "code",
   "execution_count": 35,
   "id": "former-episode",
   "metadata": {},
   "outputs": [],
   "source": [
    "#this is the newly added code\n",
    "import json\n",
    "\n",
    "\n",
    "# Opening JSON file\n",
    "with open('mybooks.json', mode = \"r\", encoding='utf-8') as json_file:\n",
    "    data = json.load(json_file)"
   ]
  },
  {
   "cell_type": "code",
   "execution_count": 36,
   "id": "acknowledged-language",
   "metadata": {
    "tags": []
   },
   "outputs": [],
   "source": [
    "def good_books(x):\n",
    "    if x >= 6 and x< 8:#this is the revised line\n",
    "        return \"good book\"\n",
    "    elif x > 8:\n",
    "        return \"excellent book\"\n",
    "    else:\n",
    "        return \"less good book\""
   ]
  },
  {
   "cell_type": "code",
   "execution_count": 37,
   "id": "regulation-cabinet",
   "metadata": {},
   "outputs": [
    {
     "name": "stdout",
     "output_type": "stream",
     "text": [
      "Hamlet, Prince of Denmark is  less good book\n",
      "Antiquities of the Jews is  less good book\n",
      "The Moon and Sixpence is  less good book\n",
      "The Lock and Key Library: Classic Mystery and Detective Stories: Modern English is  less good book\n",
      "What Men Live By, and Other Tales is  less good book\n",
      "A Portrait of the Artist as a Young Man is  less good book\n",
      "My Bondage and My Freedom is  less good book\n",
      "A Vindication of the Rights of Woman: With Strictures on Political and Moral Subjects is  less good book\n",
      "Trial of the Major War Criminals Before the International Military Tribunal, Vol. I: Nuremburg 14 November 1945-1 October 1946: Vol. I is  less good book\n",
      "Line and Form (1900) is  less good book\n",
      "Lady Windermere's Fan is  excellent book\n",
      "The History Of The Decline And Fall Of The Roman Empire: Table of Contents with links in the HTML file to the two; Project Gutenberg editions (12 volumes) is  excellent book\n",
      "Jesus the Christ: A Study of the Messiah and His Mission According to Holy; Scriptures Both Ancient and Modern is  less good book\n",
      "Self-Control Its Kingship and Majesty is  good book\n",
      "The Iliad of Homer: Translated into English Blank Verse by William Cowper is  less good book\n",
      "Clarissa Harlowe; or the history of a young lady — Volume 1 is  less good book\n",
      "Simple Sabotage Field Manual is  good book\n",
      "Der Struwwelpeter: oder lustige Geschichten und drollige Bilder is  less good book\n",
      "Woodcraft and Camping is  less good book\n",
      "The Varieties of Religious Experience: A Study in Human Nature is  excellent book\n",
      "The Metamorphoses of Ovid, Books I-VII is  less good book\n",
      "Household Stories by the Brothers Grimm is  less good book\n",
      "Don Quijote is  excellent book\n",
      "The Elements of Drawing, in Three Letters to Beginners rating unknown due to lack of data\n",
      "Utopia is  good book\n",
      "A Shropshire Lad is  good book\n",
      "Nursing as Caring: A Model for Transforming Practice is  less good book\n",
      "Famous Modern Ghost Stories is  less good book\n",
      "Time In the Round is  less good book\n",
      "The Secret Adversary is  excellent book\n",
      "Treasure Island is  less good book\n",
      "The Tribes and Castes of the Central Provinces of India, Volume 1 is  excellent book\n",
      "The Sketch-Book of Geoffrey Crayon is  less good book\n",
      "The Communist Manifesto is  less good book\n",
      "A Beginner's Psychology is  good book\n",
      "Looking Backward, 2000 to 1887 is  excellent book\n",
      "\"1812\" Napoleon I in Russia is  less good book\n",
      "She Stoops to Conquer; Or, The Mistakes of a Night: A Comedy is  less good book\n",
      "Letters of Abelard and Heloise: To which is prefix'd a particular account of their lives, amours, and misfortunes is  less good book\n",
      "The Memoirs of Jacques Casanova de Seingalt, 1725-1798. Complete is  excellent book\n",
      "A Woman of No Importance is  less good book\n",
      "A Princess of Mars is  less good book\n",
      "The Wisdom of Father Brown is  less good book\n",
      "Daddy-Long-Legs is  excellent book\n",
      "The Satyricon — Complete is  less good book\n",
      "Dubliners is  excellent book\n",
      "The Works of Edgar Allan Poe — Volume 3 is  less good book\n",
      "The Importance of Being Earnest: A Trivial Comedy for Serious People is  less good book\n",
      "Memoirs of Napoleon Bonaparte — Complete is  less good book\n",
      "The Last Man is  less good book\n",
      "In Bad Company and other stories is  less good book\n",
      "Sonnets from the Portuguese is  less good book\n",
      "Heart of Darkness is  less good book\n",
      "The New Life (La Vita Nuova) is  good book\n",
      "Alice's Abenteuer im Wunderland is  less good book\n",
      "Cookery and Dining in Imperial Rome is  good book\n",
      "The Love of Monsieur is  less good book\n",
      "History of Tom Jones, a Foundling is  less good book\n",
      "Kim is  less good book\n",
      "Lineage, Life and Labors of José Rizal, Philippine Patriot is  less good book\n",
      "The Memoirs of the Conquistador Bernal Diaz del Castillo, Vol 1 (of 2): Written by Himself Containing a True and Full Account of the Discovery and Conquest of Mexico and New Spain. is  less good book\n",
      "Beasts, Men and Gods is  less good book\n",
      "The King in Yellow is  less good book\n",
      "Myths & Legends of the Celtic Race is  less good book\n",
      "The Devil's Dictionary is  good book\n",
      "A Connecticut Yankee in King Arthur's Court is  good book\n",
      "The Scarlet Letter is  good book\n",
      "Through the Looking-Glass is  less good book\n",
      "Lady Audley's Secret is  good book\n",
      "The Social Cancer: A Complete English Version of Noli Me Tangere is  less good book\n",
      "Voyage to Far N'jurd is  excellent book\n",
      "The Principles of Chemistry Volume I (of 2) is  good book\n",
      "The Art of War is  good book\n",
      "Gulliver's Travels into Several Remote Nations of the World is  good book\n",
      "English Literature: Its History and Its Significance for the Life of the English-Speaking World is  less good book\n",
      "The Man Who Was Thursday: A Nightmare is  less good book\n",
      "The History of Don Quixote, Volume 1, Complete is  less good book\n",
      "Laughter: An Essay on the Meaning of the Comic is  less good book\n",
      "The Kama Sutra of Vatsyayana: Translated From the Sanscrit in Seven Parts With Preface, Introduction and Concluding Remarks is  good book\n",
      "The Poetics of Aristotle is  less good book\n",
      "The Secret Garden is  less good book\n",
      "The Arabian Nights Entertainments is  less good book\n",
      "The Thirty-Nine Steps is  less good book\n",
      "Fifty Famous Stories Retold is  good book\n",
      "As a Man Thinketh is  good book\n",
      "The Spectator, Volumes 1, 2 and 3: With Translations and Index for the Series is  excellent book\n",
      "The Picture of Dorian Gray is  good book\n",
      "Claudian, volume 1 (of 2): With an English translation by Maurice Platnauer is  less good book\n",
      "People Soup is  less good book\n",
      "Siddhartha: eine indische Dichtung is  less good book\n",
      "Villette is  good book\n",
      "Mark Twain's Speeches is  less good book\n",
      "The Essays of \"George Eliot\": Complete is  good book\n",
      "The Consolation of Philosophy is  good book\n",
      "Les misérables Tome I: Fantine is  good book\n",
      "Nationalism is  less good book\n",
      "Cicero's Tusculan Disputations: Also, Treatises On The Nature Of The Gods, And On The Commonwealth is  less good book\n",
      "Twice Told Tales is  less good book\n",
      "The Woman in White is  less good book\n",
      "The Vampyre; a Tale is  good book\n",
      "The Good Soldier rating unknown due to lack of data\n"
     ]
    }
   ],
   "source": [
    "for k,v in data.items():#this is the revised code \n",
    "    if v==None:#this is newly added code\n",
    "        print(k,'rating unknown due to lack of data')\n",
    "    else:\n",
    "        print(k, \"is \", good_books(int(v)))#this is revised code"
   ]
  },
  {
   "cell_type": "code",
   "execution_count": 38,
   "id": "unnecessary-adventure",
   "metadata": {},
   "outputs": [
    {
     "data": {
      "text/plain": [
       "{'Hamlet, Prince of Denmark': 4,\n",
       " 'Antiquities of the Jews': 1,\n",
       " 'The Moon and Sixpence': 3,\n",
       " 'The Lock and Key Library: Classic Mystery and Detective Stories: Modern English': 2,\n",
       " 'What Men Live By, and Other Tales': 5,\n",
       " 'A Portrait of the Artist as a Young Man': 4,\n",
       " 'My Bondage and My Freedom': 1,\n",
       " 'A Vindication of the Rights of Woman: With Strictures on Political and Moral Subjects': 5,\n",
       " 'Trial of the Major War Criminals Before the International Military Tribunal, Vol. I: Nuremburg 14 November 1945-1 October 1946: Vol. I': 2,\n",
       " 'Line and Form (1900)': 4,\n",
       " \"Lady Windermere's Fan\": 9,\n",
       " 'The History Of The Decline And Fall Of The Roman Empire: Table of Contents with links in the HTML file to the two; Project Gutenberg editions (12 volumes)': 9,\n",
       " 'Jesus the Christ: A Study of the Messiah and His Mission According to Holy; Scriptures Both Ancient and Modern': 3,\n",
       " 'Self-Control Its Kingship and Majesty': 6,\n",
       " 'The Iliad of Homer: Translated into English Blank Verse by William Cowper': 1,\n",
       " 'Clarissa Harlowe; or the history of a young lady — Volume 1': 3,\n",
       " 'Simple Sabotage Field Manual': 7,\n",
       " 'Der Struwwelpeter: oder lustige Geschichten und drollige Bilder': 4,\n",
       " 'Woodcraft and Camping': 3,\n",
       " 'The Varieties of Religious Experience: A Study in Human Nature': 9,\n",
       " 'The Metamorphoses of Ovid, Books I-VII': 4,\n",
       " 'Household Stories by the Brothers Grimm': 3,\n",
       " 'Don Quijote': 9,\n",
       " 'The Elements of Drawing, in Three Letters to Beginners': None,\n",
       " 'Utopia': 6,\n",
       " 'A Shropshire Lad': 7,\n",
       " 'Nursing as Caring: A Model for Transforming Practice': 2,\n",
       " 'Famous Modern Ghost Stories': 8,\n",
       " 'Time In the Round': 8,\n",
       " 'The Secret Adversary': 9,\n",
       " 'Treasure Island': 5,\n",
       " 'The Tribes and Castes of the Central Provinces of India, Volume 1': 9,\n",
       " 'The Sketch-Book of Geoffrey Crayon': 1,\n",
       " 'The Communist Manifesto': 2,\n",
       " \"A Beginner's Psychology\": 7,\n",
       " 'Looking Backward, 2000 to 1887': 9,\n",
       " '\"1812\" Napoleon I in Russia': 2,\n",
       " 'She Stoops to Conquer; Or, The Mistakes of a Night: A Comedy': 4,\n",
       " \"Letters of Abelard and Heloise: To which is prefix'd a particular account of their lives, amours, and misfortunes\": 2,\n",
       " 'The Memoirs of Jacques Casanova de Seingalt, 1725-1798. Complete': 9,\n",
       " 'A Woman of No Importance': 5,\n",
       " 'A Princess of Mars': 1,\n",
       " 'The Wisdom of Father Brown': 4,\n",
       " 'Daddy-Long-Legs': 9,\n",
       " 'The Satyricon — Complete': 5,\n",
       " 'Dubliners': 9,\n",
       " 'The Works of Edgar Allan Poe — Volume 3': 5,\n",
       " 'The Importance of Being Earnest: A Trivial Comedy for Serious People': 1,\n",
       " 'Memoirs of Napoleon Bonaparte — Complete': 3,\n",
       " 'The Last Man': 2,\n",
       " 'In Bad Company and other stories': 2,\n",
       " 'Sonnets from the Portuguese': 1,\n",
       " 'Heart of Darkness': 8,\n",
       " 'The New Life (La Vita Nuova)': 7,\n",
       " \"Alice's Abenteuer im Wunderland\": 5,\n",
       " 'Cookery and Dining in Imperial Rome': 6,\n",
       " 'The Love of Monsieur': 2,\n",
       " 'History of Tom Jones, a Foundling': 8,\n",
       " 'Kim': 8,\n",
       " 'Lineage, Life and Labors of José Rizal, Philippine Patriot': 4,\n",
       " 'The Memoirs of the Conquistador Bernal Diaz del Castillo, Vol 1 (of 2): Written by Himself Containing a True and Full Account of the Discovery and Conquest of Mexico and New Spain.': 5,\n",
       " 'Beasts, Men and Gods': 5,\n",
       " 'The King in Yellow': 5,\n",
       " 'Myths & Legends of the Celtic Race': 4,\n",
       " \"The Devil's Dictionary\": 6,\n",
       " \"A Connecticut Yankee in King Arthur's Court\": 6,\n",
       " 'The Scarlet Letter': 7,\n",
       " 'Through the Looking-Glass': 8,\n",
       " \"Lady Audley's Secret\": 7,\n",
       " 'The Social Cancer: A Complete English Version of Noli Me Tangere': 3,\n",
       " \"Voyage to Far N'jurd\": 9,\n",
       " 'The Principles of Chemistry Volume I (of 2)': 7,\n",
       " 'The Art of War': 6,\n",
       " \"Gulliver's Travels into Several Remote Nations of the World\": 6,\n",
       " 'English Literature: Its History and Its Significance for the Life of the English-Speaking World': 5,\n",
       " 'The Man Who Was Thursday: A Nightmare': 4,\n",
       " 'The History of Don Quixote, Volume 1, Complete': 1,\n",
       " 'Laughter: An Essay on the Meaning of the Comic': 5,\n",
       " 'The Kama Sutra of Vatsyayana: Translated From the Sanscrit in Seven Parts With Preface, Introduction and Concluding Remarks': 6,\n",
       " 'The Poetics of Aristotle': 8,\n",
       " 'The Secret Garden': 2,\n",
       " 'The Arabian Nights Entertainments': 4,\n",
       " 'The Thirty-Nine Steps': 2,\n",
       " 'Fifty Famous Stories Retold': 6,\n",
       " 'As a Man Thinketh': 7,\n",
       " 'The Spectator, Volumes 1, 2 and 3: With Translations and Index for the Series': 9,\n",
       " 'The Picture of Dorian Gray': 6,\n",
       " 'Claudian, volume 1 (of 2): With an English translation by Maurice Platnauer': 1,\n",
       " 'People Soup': 4,\n",
       " 'Siddhartha: eine indische Dichtung': '3',\n",
       " 'Villette': '6',\n",
       " \"Mark Twain's Speeches\": 3,\n",
       " 'The Essays of \"George Eliot\": Complete': 7,\n",
       " 'The Consolation of Philosophy': 6,\n",
       " 'Les misérables Tome I: Fantine': 7,\n",
       " 'Nationalism': 4,\n",
       " \"Cicero's Tusculan Disputations: Also, Treatises On The Nature Of The Gods, And On The Commonwealth\": 3,\n",
       " 'Twice Told Tales': 3,\n",
       " 'The Woman in White': 5,\n",
       " 'The Vampyre; a Tale': 7,\n",
       " 'The Good Soldier': None}"
      ]
     },
     "execution_count": 38,
     "metadata": {},
     "output_type": "execute_result"
    }
   ],
   "source": [
    "data"
   ]
  }
 ],
 "metadata": {
  "kernelspec": {
   "display_name": "Python 3 (ipykernel)",
   "language": "python",
   "name": "python3"
  },
  "language_info": {
   "codemirror_mode": {
    "name": "ipython",
    "version": 3
   },
   "file_extension": ".py",
   "mimetype": "text/x-python",
   "name": "python",
   "nbconvert_exporter": "python",
   "pygments_lexer": "ipython3",
   "version": "3.9.7"
  }
 },
 "nbformat": 4,
 "nbformat_minor": 5
}
